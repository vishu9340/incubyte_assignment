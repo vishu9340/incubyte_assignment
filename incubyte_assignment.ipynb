{
 "cells": [
  {
   "cell_type": "code",
   "execution_count": 28,
   "id": "5864eff1",
   "metadata": {},
   "outputs": [],
   "source": [
    "import numpy as np\n",
    "import pandas as pd\n"
   ]
  },
  {
   "cell_type": "code",
   "execution_count": 29,
   "id": "ac86d359",
   "metadata": {},
   "outputs": [],
   "source": [
    "df= pd.read_csv('databasec.txt')"
   ]
  },
  {
   "cell_type": "code",
   "execution_count": 30,
   "id": "3d2c4380",
   "metadata": {},
   "outputs": [],
   "source": [
    "patients_staging = pd.read_csv('databasec.txt', sep='|', engine='python')"
   ]
  },
  {
   "cell_type": "code",
   "execution_count": 31,
   "id": "3e0aa6a2",
   "metadata": {},
   "outputs": [
    {
     "data": {
      "text/html": [
       "<div>\n",
       "<style scoped>\n",
       "    .dataframe tbody tr th:only-of-type {\n",
       "        vertical-align: middle;\n",
       "    }\n",
       "\n",
       "    .dataframe tbody tr th {\n",
       "        vertical-align: top;\n",
       "    }\n",
       "\n",
       "    .dataframe thead th {\n",
       "        text-align: right;\n",
       "    }\n",
       "</style>\n",
       "<table border=\"1\" class=\"dataframe\">\n",
       "  <thead>\n",
       "    <tr style=\"text-align: right;\">\n",
       "      <th></th>\n",
       "      <th>Customer_Name</th>\n",
       "      <th>Customer_Id</th>\n",
       "      <th>Open_Date</th>\n",
       "      <th>Last_Consulted_Date</th>\n",
       "      <th>Vaccination_Id</th>\n",
       "      <th>Dr_Name</th>\n",
       "      <th>State</th>\n",
       "      <th>Country</th>\n",
       "      <th>DOB</th>\n",
       "      <th>Is_Active</th>\n",
       "    </tr>\n",
       "  </thead>\n",
       "  <tbody>\n",
       "    <tr>\n",
       "      <th>0</th>\n",
       "      <td>Alex</td>\n",
       "      <td>123457</td>\n",
       "      <td>20101012</td>\n",
       "      <td>20121013</td>\n",
       "      <td>MVD</td>\n",
       "      <td>Paul</td>\n",
       "      <td>SA</td>\n",
       "      <td>USA</td>\n",
       "      <td>6031987</td>\n",
       "      <td>A</td>\n",
       "    </tr>\n",
       "    <tr>\n",
       "      <th>1</th>\n",
       "      <td>Bale</td>\n",
       "      <td>123457</td>\n",
       "      <td>20101012</td>\n",
       "      <td>20121013</td>\n",
       "      <td>MVD</td>\n",
       "      <td>Paul</td>\n",
       "      <td>SA</td>\n",
       "      <td>USA</td>\n",
       "      <td>6031987</td>\n",
       "      <td>A</td>\n",
       "    </tr>\n",
       "    <tr>\n",
       "      <th>2</th>\n",
       "      <td>John</td>\n",
       "      <td>123458</td>\n",
       "      <td>20101012</td>\n",
       "      <td>20121013</td>\n",
       "      <td>MVD</td>\n",
       "      <td>Paul</td>\n",
       "      <td>TN</td>\n",
       "      <td>IND</td>\n",
       "      <td>6031987</td>\n",
       "      <td>A</td>\n",
       "    </tr>\n",
       "    <tr>\n",
       "      <th>3</th>\n",
       "      <td>Abcd</td>\n",
       "      <td>123458</td>\n",
       "      <td>20101012</td>\n",
       "      <td>20121013</td>\n",
       "      <td>MVD</td>\n",
       "      <td>Paul</td>\n",
       "      <td>TN</td>\n",
       "      <td>IND</td>\n",
       "      <td>6031987</td>\n",
       "      <td>A</td>\n",
       "    </tr>\n",
       "    <tr>\n",
       "      <th>4</th>\n",
       "      <td>Mathew</td>\n",
       "      <td>123459</td>\n",
       "      <td>20101012</td>\n",
       "      <td>20121013</td>\n",
       "      <td>MVD</td>\n",
       "      <td>Paul</td>\n",
       "      <td>WAS</td>\n",
       "      <td>PHIL</td>\n",
       "      <td>6031987</td>\n",
       "      <td>A</td>\n",
       "    </tr>\n",
       "    <tr>\n",
       "      <th>5</th>\n",
       "      <td>Matt</td>\n",
       "      <td>12345</td>\n",
       "      <td>20101012</td>\n",
       "      <td>20121013</td>\n",
       "      <td>MVD</td>\n",
       "      <td>Paul</td>\n",
       "      <td>BOS</td>\n",
       "      <td>NYC</td>\n",
       "      <td>6031987</td>\n",
       "      <td>A</td>\n",
       "    </tr>\n",
       "    <tr>\n",
       "      <th>6</th>\n",
       "      <td>Jacob</td>\n",
       "      <td>1256</td>\n",
       "      <td>20101012</td>\n",
       "      <td>20121013</td>\n",
       "      <td>MVD</td>\n",
       "      <td>Paul</td>\n",
       "      <td>VIC</td>\n",
       "      <td>AU</td>\n",
       "      <td>6031987</td>\n",
       "      <td>A</td>\n",
       "    </tr>\n",
       "  </tbody>\n",
       "</table>\n",
       "</div>"
      ],
      "text/plain": [
       "  Customer_Name  Customer_Id  Open_Date  Last_Consulted_Date Vaccination_Id  \\\n",
       "0          Alex       123457   20101012             20121013            MVD   \n",
       "1          Bale       123457   20101012             20121013            MVD   \n",
       "2          John       123458   20101012             20121013            MVD   \n",
       "3          Abcd       123458   20101012             20121013            MVD   \n",
       "4        Mathew       123459   20101012             20121013            MVD   \n",
       "5          Matt        12345   20101012             20121013            MVD   \n",
       "6         Jacob         1256   20101012             20121013            MVD   \n",
       "\n",
       "  Dr_Name State Country      DOB Is_Active  \n",
       "0    Paul    SA     USA  6031987         A  \n",
       "1    Paul    SA     USA  6031987         A  \n",
       "2    Paul    TN     IND  6031987         A  \n",
       "3    Paul    TN     IND  6031987         A  \n",
       "4    Paul   WAS    PHIL  6031987         A  \n",
       "5    Paul   BOS     NYC  6031987         A  \n",
       "6    Paul   VIC      AU  6031987         A  "
      ]
     },
     "execution_count": 31,
     "metadata": {},
     "output_type": "execute_result"
    }
   ],
   "source": [
    "patients_staging"
   ]
  },
  {
   "cell_type": "code",
   "execution_count": 32,
   "id": "2f57e93f",
   "metadata": {},
   "outputs": [
    {
     "name": "stdout",
     "output_type": "stream",
     "text": [
      "['USA' 'IND' 'PHIL' 'NYC' 'AU']\n"
     ]
    }
   ],
   "source": [
    "print(patients_staging.Country.unique())"
   ]
  },
  {
   "cell_type": "code",
   "execution_count": 33,
   "id": "34a825fc",
   "metadata": {},
   "outputs": [],
   "source": [
    "patientsbycountry = patients_staging.groupby('Country')\n",
    "dict_bycountry = {}"
   ]
  },
  {
   "cell_type": "code",
   "execution_count": 34,
   "id": "7170a556",
   "metadata": {},
   "outputs": [
    {
     "name": "stdout",
     "output_type": "stream",
     "text": [
      "  Customer_Name  Customer_Id  Open_Date  Last_Consulted_Date Vaccination_Id  \\\n",
      "6         Jacob         1256   20101012             20121013            MVD   \n",
      "\n",
      "  Dr_Name State Country      DOB Is_Active  \n",
      "6    Paul   VIC      AU  6031987         A  \n",
      "  Customer_Name  Customer_Id  Open_Date  Last_Consulted_Date Vaccination_Id  \\\n",
      "2          John       123458   20101012             20121013            MVD   \n",
      "3          Abcd       123458   20101012             20121013            MVD   \n",
      "\n",
      "  Dr_Name State Country      DOB Is_Active  \n",
      "2    Paul    TN     IND  6031987         A  \n",
      "3    Paul    TN     IND  6031987         A  \n",
      "  Customer_Name  Customer_Id  Open_Date  Last_Consulted_Date Vaccination_Id  \\\n",
      "5          Matt        12345   20101012             20121013            MVD   \n",
      "\n",
      "  Dr_Name State Country      DOB Is_Active  \n",
      "5    Paul   BOS     NYC  6031987         A  \n",
      "  Customer_Name  Customer_Id  Open_Date  Last_Consulted_Date Vaccination_Id  \\\n",
      "4        Mathew       123459   20101012             20121013            MVD   \n",
      "\n",
      "  Dr_Name State Country      DOB Is_Active  \n",
      "4    Paul   WAS    PHIL  6031987         A  \n",
      "  Customer_Name  Customer_Id  Open_Date  Last_Consulted_Date Vaccination_Id  \\\n",
      "0          Alex       123457   20101012             20121013            MVD   \n",
      "1          Bale       123457   20101012             20121013            MVD   \n",
      "\n",
      "  Dr_Name State Country      DOB Is_Active  \n",
      "0    Paul    SA     USA  6031987         A  \n",
      "1    Paul    SA     USA  6031987         A  \n"
     ]
    }
   ],
   "source": [
    "for key, value in patientsbycountry:\n",
    "  dict_bycountry[key] = value\n",
    "  print(dict_bycountry[key])"
   ]
  },
  {
   "cell_type": "code",
   "execution_count": 35,
   "id": "b7e9d5f9",
   "metadata": {},
   "outputs": [
    {
     "name": "stdout",
     "output_type": "stream",
     "text": [
      "Country: AU\n",
      "  Customer_Name  Customer_Id  Open_Date  Last_Consulted_Date Vaccination_Id  \\\n",
      "6         Jacob         1256   20101012             20121013            MVD   \n",
      "\n",
      "  Dr_Name State Country      DOB Is_Active  \n",
      "6    Paul   VIC      AU  6031987         A  \n",
      "\n",
      "\n",
      "Country: IND\n",
      "  Customer_Name  Customer_Id  Open_Date  Last_Consulted_Date Vaccination_Id  \\\n",
      "2          John       123458   20101012             20121013            MVD   \n",
      "3          Abcd       123458   20101012             20121013            MVD   \n",
      "\n",
      "  Dr_Name State Country      DOB Is_Active  \n",
      "2    Paul    TN     IND  6031987         A  \n",
      "3    Paul    TN     IND  6031987         A  \n",
      "\n",
      "\n",
      "Country: NYC\n",
      "  Customer_Name  Customer_Id  Open_Date  Last_Consulted_Date Vaccination_Id  \\\n",
      "5          Matt        12345   20101012             20121013            MVD   \n",
      "\n",
      "  Dr_Name State Country      DOB Is_Active  \n",
      "5    Paul   BOS     NYC  6031987         A  \n",
      "\n",
      "\n",
      "Country: PHIL\n",
      "  Customer_Name  Customer_Id  Open_Date  Last_Consulted_Date Vaccination_Id  \\\n",
      "4        Mathew       123459   20101012             20121013            MVD   \n",
      "\n",
      "  Dr_Name State Country      DOB Is_Active  \n",
      "4    Paul   WAS    PHIL  6031987         A  \n",
      "\n",
      "\n",
      "Country: USA\n",
      "  Customer_Name  Customer_Id  Open_Date  Last_Consulted_Date Vaccination_Id  \\\n",
      "0          Alex       123457   20101012             20121013            MVD   \n",
      "1          Bale       123457   20101012             20121013            MVD   \n",
      "\n",
      "  Dr_Name State Country      DOB Is_Active  \n",
      "0    Paul    SA     USA  6031987         A  \n",
      "1    Paul    SA     USA  6031987         A  \n",
      "\n",
      "\n"
     ]
    }
   ],
   "source": [
    "for key,value in dict_bycountry.items():\n",
    "    print(\"Country:\",key)\n",
    "    print(value)\n",
    "    print(\"\\n\")"
   ]
  },
  {
   "cell_type": "code",
   "execution_count": null,
   "id": "3e21c882",
   "metadata": {},
   "outputs": [],
   "source": []
  }
 ],
 "metadata": {
  "kernelspec": {
   "display_name": "Python 3",
   "language": "python",
   "name": "python3"
  },
  "language_info": {
   "codemirror_mode": {
    "name": "ipython",
    "version": 3
   },
   "file_extension": ".py",
   "mimetype": "text/x-python",
   "name": "python",
   "nbconvert_exporter": "python",
   "pygments_lexer": "ipython3",
   "version": "3.8.8"
  }
 },
 "nbformat": 4,
 "nbformat_minor": 5
}
